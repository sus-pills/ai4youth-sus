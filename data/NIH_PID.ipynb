{
 "cells": [
  {
   "cell_type": "markdown",
   "metadata": {},
   "source": [
    "# TODO format with PEP8"
   ]
  },
  {
   "cell_type": "code",
   "execution_count": 1,
   "metadata": {},
   "outputs": [],
   "source": [
    "# !pip install X"
   ]
  },
  {
   "cell_type": "code",
   "execution_count": 2,
   "metadata": {},
   "outputs": [],
   "source": [
    "# Imports\n",
    "from pathlib import Path\n",
    "import pandas as pd\n",
    "import numpy as np\n",
    "import requests\n",
    "import re"
   ]
  },
  {
   "cell_type": "markdown",
   "metadata": {},
   "source": [
    "# Acquiring the NIH Pill image data from the web\n",
    "\n",
    "## Explaining Imports:\n",
    "\n",
    "| Import name | Usage |\n",
    "| - | - |\n",
    "| pathlib.Path | folder/directory management |\n",
    "| pandas | data management |\n",
    "| numpy | data management |\n",
    "| requests | accessing the web |\n",
    "| re | (regex) string simplification |\n",
    "\n",
    "## Downloading checkpoint:\n",
    "\n",
    "It is a safety measure in case your internet connection would break during the downloading process (just like mine did), thus allowing only a portion of the desired data to download. The CHECKPOINT lets you start the downloading process from the N-th photo. Note that the CHECKPOINT must be of the lesser value than the number of photos to download, otherwise the download will not start."
   ]
  },
  {
   "cell_type": "code",
   "execution_count": 3,
   "metadata": {},
   "outputs": [],
   "source": [
    "# Default is 0\n",
    "CHECKPOINT = 0"
   ]
  },
  {
   "cell_type": "markdown",
   "metadata": {},
   "source": [
    "## Constant variables:"
   ]
  },
  {
   "cell_type": "code",
   "execution_count": 4,
   "metadata": {},
   "outputs": [],
   "source": [
    "# Chosen pill categories\n",
    "CATEGORIES_FILE = \".\\\\tablets_list.txt\"\n",
    "\n",
    "# regex for the usp pill images\n",
    "USP_REGEX = \"usp*$|USP*$|Usp*$|usp dosepack*$\"\n",
    "\n",
    "# 'images' folder\n",
    "IMG_PATH = \".\\\\images\"\n",
    "\n",
    "# Reserved folders; should be created/deleted manually\n",
    "RESERVED = [\n",
    "    Path(f\"{IMG_PATH}\\\\.cropped\"),\n",
    "    Path(f\"{IMG_PATH}\\\\.backup\"),\n",
    "    Path(f\"{IMG_PATH}\\\\.train\"),\n",
    "    Path(f\"{IMG_PATH}\\\\.valid\"),\n",
    "    Path(f\"{IMG_PATH}\\\\.test\"),\n",
    "]"
   ]
  },
  {
   "cell_type": "markdown",
   "metadata": {},
   "source": [
    "### prepare_for_csv function:\n",
    "\n",
    "Used to prepare the dataframe to save it as a *\\*.csv* file, consisting only of desired pills from the *tablets_list.txt* file."
   ]
  },
  {
   "cell_type": "code",
   "execution_count": 5,
   "metadata": {},
   "outputs": [],
   "source": [
    "def prepare_for_csv(df: np.ndarray, cats: list):\n",
    "    \"\"\"\n",
    "    Extract the desired data from the numpy array.\n",
    "    We only want the data that consists of all these traits:\n",
    "        - Images that end with .JPG\n",
    "        - Images' names that equal our desired categories\n",
    "    \"\"\"\n",
    "\n",
    "    new_df = np.empty((0, 3))\n",
    "\n",
    "    # Append only valid rows\n",
    "    for i in range(len(df)):\n",
    "\n",
    "        if (df[i][1] in cats) and (\".JPG\" in df[i][2]):\n",
    "\n",
    "            new_df = np.append(new_df, [df[i]], axis=0)\n",
    "\n",
    "    for i in range(len(new_df)):\n",
    "\n",
    "        # Add ids\n",
    "        new_df[i][0] = i\n",
    "\n",
    "        # Simplify the names\n",
    "        new_df[i][1] = re.sub(\"[^A-Za-z0-9 *]+\", \"\", new_df[i][1])\n",
    "        new_df[i][1] = re.sub(USP_REGEX, \"\", new_df[i][1]).rstrip()\n",
    "        new_df[i][1] = f\"\\\"{re.sub('[ *]+', '_', new_df[i][1])}\\\"\".lower()\n",
    "\n",
    "        # Fix the urls\n",
    "        new_df[i][2] = f'\"https://data.lhncbc.nlm.nih.gov/public/Pills/{new_df[i][2]}\"'\n",
    "\n",
    "    # Label the new dataframe\n",
    "    new_df = np.insert(new_df, 0, ['\"Id\"', '\"Name\"', '\"Image\"'], axis=0)\n",
    "\n",
    "    return new_df"
   ]
  },
  {
   "cell_type": "markdown",
   "metadata": {},
   "source": [
    "## Execution Part 1:\n",
    "\n",
    "Used to prepare the data for the downloading process (I.e. creating a data list of desired photos to download)."
   ]
  },
  {
   "cell_type": "code",
   "execution_count": 6,
   "metadata": {},
   "outputs": [],
   "source": [
    "# Put the desired categories into the variable\n",
    "with open(CATEGORIES_FILE, \"r\") as f:\n",
    "    cats = f.read().split(\"\\n\")"
   ]
  },
  {
   "cell_type": "code",
   "execution_count": 7,
   "metadata": {},
   "outputs": [],
   "source": [
    "# Load the reference dataframe\n",
    "ref_df = pd.read_excel(\".\\\\directory_of_images.xlsx\")"
   ]
  },
  {
   "cell_type": "code",
   "execution_count": 8,
   "metadata": {},
   "outputs": [],
   "source": [
    "# Prepare the new dataframe\n",
    "df = ref_df[[\"Part\", \"Name\", \"Image\"]].to_numpy()\n",
    "df = prepare_for_csv(df, cats)"
   ]
  },
  {
   "cell_type": "code",
   "execution_count": 9,
   "metadata": {},
   "outputs": [],
   "source": [
    "# Save the dataframe as a *.csv file\n",
    "np.savetxt(\".\\\\data_list.csv\", df, delimiter=\",\", fmt=\"%s\")"
   ]
  },
  {
   "cell_type": "markdown",
   "metadata": {},
   "source": [
    "### make_img_path function:\n",
    "\n",
    "Used to create an image path out of a given name."
   ]
  },
  {
   "cell_type": "code",
   "execution_count": 10,
   "metadata": {},
   "outputs": [],
   "source": [
    "def make_img_path(name: str) -> Path:\n",
    "    \"\"\"\n",
    "    Create an image path as a pathlib.Path object from a name.\n",
    "    \"\"\"\n",
    "    return Path(f\"{IMG_PATH}\\\\{name}\")"
   ]
  },
  {
   "cell_type": "markdown",
   "metadata": {},
   "source": [
    "### create_folders function:\n",
    "\n",
    "Used to create folders out of a prepared dataframe."
   ]
  },
  {
   "cell_type": "code",
   "execution_count": 11,
   "metadata": {},
   "outputs": [],
   "source": [
    "def create_folders(df: pd.DataFrame):\n",
    "    \"\"\"\n",
    "    Create folders for the downloading process.\n",
    "    \"\"\"\n",
    "\n",
    "    # Convert names to paths\n",
    "    cats = list(set(df[\"Name\"]))\n",
    "    cats = list(map(make_img_path, cats))\n",
    "\n",
    "    # Clear previous data\n",
    "    # or create the 'images' folder if it does not exist\n",
    "    if Path(IMG_PATH).is_dir():\n",
    "        for dir in Path(IMG_PATH).iterdir():\n",
    "\n",
    "            # Delete the file; dir should be a directory\n",
    "            if dir.is_file():\n",
    "                dir.unlink()\n",
    "                continue\n",
    "\n",
    "            # Delete the contents\n",
    "            dir_len = len(list(dir.iterdir()))\n",
    "            if (dir not in RESERVED) and (dir_len != 0):\n",
    "                for obj in dir.iterdir():\n",
    "                    # Had to add this 'if' clause below...\n",
    "                    # pathlib calls windows error 5 when unlinking a folder,\n",
    "                    # even though unlink() should instantly call rmdir() when used on a folder\n",
    "                    # rmdir() works fine\n",
    "                    if obj.is_dir():\n",
    "                        obj.rmdir()\n",
    "                    else:\n",
    "                        obj.unlink(missing_ok=True)\n",
    "\n",
    "            # Delete useless folders\n",
    "            if (dir not in RESERVED) and (dir not in cats):\n",
    "                dir.rmdir()\n",
    "    else:\n",
    "        Path(IMG_PATH).mkdir(parents=True)\n",
    "\n",
    "    # Create folders for all categories\n",
    "    for cat in cats:\n",
    "        cat.mkdir(parents=True, exist_ok=True)"
   ]
  },
  {
   "cell_type": "markdown",
   "metadata": {},
   "source": [
    "### download_imgs function:\n",
    "\n",
    "Used to download the data off the web (I.e. the NIH Pill image data)."
   ]
  },
  {
   "cell_type": "code",
   "execution_count": 12,
   "metadata": {},
   "outputs": [],
   "source": [
    "def download_imgs(df: pd.DataFrame, silent=False):\n",
    "    \"\"\"\n",
    "    Download images listed in the dataframe. An optional 'silent' parameter is used to silence the output.\n",
    "    \"\"\"\n",
    "\n",
    "    # Open a session\n",
    "    with requests.Session() as sess:\n",
    "\n",
    "        for i in range(CHECKPOINT, len(df)):\n",
    "\n",
    "            # Set path and url variables\n",
    "            path = f\"{IMG_PATH}\\\\{df['Name'][i]}\"\n",
    "            url = df[\"Image\"][i]\n",
    "\n",
    "            if Path(path).is_dir():\n",
    "\n",
    "                # Get the response\n",
    "                response = sess.get(url)\n",
    "\n",
    "                # Download the image\n",
    "                if response.status_code == 200:\n",
    "                    with open(f\"{path}\\\\{i}.jpg\", \"wb\") as d_file:\n",
    "\n",
    "                        d_file.write(response.content)\n",
    "\n",
    "                        if not silent:\n",
    "                            print(f\"File {i}.jpg was saved in {path}.\")"
   ]
  },
  {
   "cell_type": "markdown",
   "metadata": {},
   "source": [
    "## Execution Part 2:"
   ]
  },
  {
   "cell_type": "code",
   "execution_count": 13,
   "metadata": {},
   "outputs": [],
   "source": [
    "# Extract data from the data_list.csv file\n",
    "df = pd.read_csv(\".\\\\data_list.csv\")"
   ]
  },
  {
   "cell_type": "code",
   "execution_count": 14,
   "metadata": {},
   "outputs": [],
   "source": [
    "# Create folders for the downloading process\n",
    "if CHECKPOINT == 0:\n",
    "    create_folders(df)"
   ]
  },
  {
   "cell_type": "code",
   "execution_count": 15,
   "metadata": {},
   "outputs": [
    {
     "name": "stdout",
     "output_type": "stream",
     "text": [
      "File 0.jpg was saved in .\\images\\amiloride_hcl_and_hydrochlorothiazide_tablets.\n",
      "File 1.jpg was saved in .\\images\\amiloride_hcl_and_hydrochlorothiazide_tablets.\n",
      "File 2.jpg was saved in .\\images\\amiloride_hcl_and_hydrochlorothiazide_tablets.\n"
     ]
    }
   ],
   "source": [
    "# Download images to created folders\n",
    "if CHECKPOINT < len(df):\n",
    "    download_imgs(df)"
   ]
  },
  {
   "cell_type": "markdown",
   "metadata": {},
   "source": [
    "#### Warning!\n",
    "\n",
    "Unfortunately, the used database, as well as other outside image sources used in our project consist of uncropped images; consequently, all images should be manually cropped and put into the **data\\\\images\\\\.cropped\\\\** folder if downloaded through this *\\*.ipynb* script. Not cropping the images will result in worse performance of the final model.\n",
    "\n",
    "As a reminder, all cropped data should be available to download from the link located in the main *README.md* file.\n",
    "\n",
    "## Renaming images prepared for training\n",
    "\n",
    "Use this codeblock in case you made any changes to the image set, such as renaming files or adding more."
   ]
  },
  {
   "cell_type": "code",
   "execution_count": 16,
   "metadata": {},
   "outputs": [],
   "source": [
    "if RESERVED[2].is_dir():\n",
    "    for dir in RESERVED[2].iterdir():\n",
    "        num = 0\n",
    "\n",
    "        for file in dir.iterdir():\n",
    "            new_path = Path(f\"{dir}\\\\{num}.jpg\")\n",
    "\n",
    "            if file.is_file() and file not in dir.iterdir():\n",
    "                file.rename(new_path)\n",
    "            \n",
    "            num += 1"
   ]
  }
 ],
 "metadata": {
  "kernelspec": {
   "display_name": "Python 3.9.12 ('.venv': venv)",
   "language": "python",
   "name": "python3"
  },
  "language_info": {
   "codemirror_mode": {
    "name": "ipython",
    "version": 3
   },
   "file_extension": ".py",
   "mimetype": "text/x-python",
   "name": "python",
   "nbconvert_exporter": "python",
   "pygments_lexer": "ipython3",
   "version": "3.9.12"
  },
  "orig_nbformat": 4,
  "vscode": {
   "interpreter": {
    "hash": "d9fe3a0d77b7f701eeb320c3c30fef7c06fc31f1d1fd5594056fae9442a9540c"
   }
  }
 },
 "nbformat": 4,
 "nbformat_minor": 2
}
