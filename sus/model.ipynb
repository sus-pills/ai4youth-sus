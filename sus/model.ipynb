{
 "cells": [],
 "metadata": {
  "kernelspec": {
   "display_name": "Python 3.9.13 (conda)",
   "language": "python",
   "name": "python3"
  },
  "language_info": {
   "name": "python",
   "version": "3.9.13"
  },
  "orig_nbformat": 4,
  "vscode": {
   "interpreter": {
    "hash": "97820c4227d70dd9b4117f80bdc202e7cf07597cd6fbf7d594295571d25082f2"
   }
  }
 },
 "nbformat": 4,
 "nbformat_minor": 2
}
