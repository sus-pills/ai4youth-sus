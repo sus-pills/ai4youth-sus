{
 "cells": [
  {
   "cell_type": "code",
   "execution_count": null,
   "metadata": {},
   "outputs": [],
   "source": [
    "# Installing libraries\n",
    "!pip install matplotlib\n",
    "!pip install tensorflow\n",
    "!pip install numpy\n",
    "!pip install opencv-python\n",
    "# Improts\n",
    "from matplotlib import pyplot as plt\n",
    "from pathlib import Path\n",
    "import tensorflow as tf\n",
    "import numpy as np\n",
    "import cv2\n",
    "import os"
   ]
  },
  {
   "cell_type": "markdown",
   "metadata": {},
   "source": [
    "# SUS Pills prediction\n",
    "\n",
    "## Explanation of the imports:\n",
    "\n",
    "| Import name | Usage |\n",
    "| - | - |\n",
    "| matplotlib.pyplot | Showing the image |\n",
    "| pathlib.Path | reading labels |\n",
    "| tensorflow | using trained model for prediction |\n",
    "| numpy | converting to numpy array |\n",
    "| cv2 | reading image for prediction |\n",
    "| os | rising Tensorflow min log level |\n",
    "\n",
    "## Clearing unnecessary warnings caused by Tensorflow:"
   ]
  },
  {
   "cell_type": "code",
   "execution_count": null,
   "metadata": {},
   "outputs": [],
   "source": [
    "os.environ[\"TF_CPP_MIN_LOG_LEVEL\"] = \"2\""
   ]
  },
  {
   "cell_type": "markdown",
   "metadata": {},
   "source": [
    "## Constant variables:"
   ]
  },
  {
   "cell_type": "code",
   "execution_count": null,
   "metadata": {},
   "outputs": [],
   "source": [
    "# Image to predict\n",
    "IMAGE = \"..\\\\data\\\\images\\\\.predict\\\\2.jpg\"\n",
    "\n",
    "# Directories\n",
    "MODEL_DIR = \".\\\\models\\\\cnn-20221012-205200\"\n",
    "LABEL_DIR = \"..\\\\data\\\\images\\\\.train\""
   ]
  },
  {
   "cell_type": "markdown",
   "metadata": {},
   "source": [
    "## Reading labels\n",
    "\n",
    "We assume that the currently active model described by the ```MODEL_DIR``` variable was trained on the latest training set."
   ]
  },
  {
   "cell_type": "code",
   "execution_count": null,
   "metadata": {},
   "outputs": [],
   "source": [
    "labels = []\n",
    "\n",
    "for pill_type in Path(LABEL_DIR).iterdir():\n",
    "    labels.append(pill_type.name.replace('_', ' ').title())"
   ]
  },
  {
   "cell_type": "markdown",
   "metadata": {},
   "source": [
    "## Loading the model and its input size"
   ]
  },
  {
   "cell_type": "code",
   "execution_count": null,
   "metadata": {},
   "outputs": [],
   "source": [
    "model = tf.keras.models.load_model(MODEL_DIR)\n",
    "\n",
    "config = model.get_config()\n",
    "inputs = config['layers'][0]['config']['batch_input_shape']"
   ]
  },
  {
   "cell_type": "markdown",
   "metadata": {},
   "source": [
    "## Reading/resizing the image used for the prediction"
   ]
  },
  {
   "cell_type": "code",
   "execution_count": null,
   "metadata": {},
   "outputs": [],
   "source": [
    "# [..., ::-1] <-- read as RGB instead of BGR\n",
    "image = cv2.imread(IMAGE)[..., ::-1]\n",
    "image_r = cv2.resize(image, inputs[1:3])\n",
    "\n",
    "np_image = np.asarray(image_r)\n",
    "np_image = np.expand_dims(np_image, axis=0)"
   ]
  },
  {
   "cell_type": "markdown",
   "metadata": {},
   "source": [
    "## Predicting the pill type"
   ]
  },
  {
   "cell_type": "code",
   "execution_count": null,
   "metadata": {},
   "outputs": [],
   "source": [
    "plt.axis('off')\n",
    "plt.imshow(image)\n",
    "\n",
    "prediction = model.predict([np_image])\n",
    "rounded = str(round(prediction.max(), 2))\n",
    "\n",
    "print(f\"{labels[prediction.argmax()]} -> {rounded}%\")"
   ]
  }
 ],
 "metadata": {
  "kernelspec": {
   "display_name": "Python 3.9.12 ('.venv': venv)",
   "language": "python",
   "name": "python3"
  },
  "language_info": {
   "codemirror_mode": {
    "name": "ipython",
    "version": 3
   },
   "file_extension": ".py",
   "mimetype": "text/x-python",
   "name": "python",
   "nbconvert_exporter": "python",
   "pygments_lexer": "ipython3",
   "version": "3.9.12"
  },
  "orig_nbformat": 4,
  "vscode": {
   "interpreter": {
    "hash": "d9fe3a0d77b7f701eeb320c3c30fef7c06fc31f1d1fd5594056fae9442a9540c"
   }
  }
 },
 "nbformat": 4,
 "nbformat_minor": 2
}
